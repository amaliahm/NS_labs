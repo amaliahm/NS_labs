{
 "cells": [
  {
   "cell_type": "markdown",
   "metadata": {},
   "source": [
    "<figure>\n",
    "  <IMG src=\"figures/logo-esi-sba.png\" WIDTH=300 height=\"100\" ALIGN=\"right\">\n",
    "</figure>\n",
    "\n",
    "# Practical Lab Series on Network Sciences   \n",
    "*By Dr. Belkacem KHALDI (b.khaldi@esi-sba.dz)*"
   ]
  },
  {
   "cell_type": "markdown",
   "metadata": {},
   "source": [
    "## Notebook 2: Node Embeddings with GNNs - Skip-Gram\n",
    "\n",
    "This Jupyter Notebook is designed to help you grasp the most  different aspects of nodes embeddings seen in the lecture.\n",
    "\n"
   ]
  },
  {
   "cell_type": "code",
   "execution_count": null,
   "metadata": {},
   "outputs": [],
   "source": [
    "%pip install  gensim\n"
   ]
  },
  {
   "cell_type": "markdown",
   "metadata": {},
   "source": [
    "## Import General Libraries"
   ]
  },
  {
   "cell_type": "code",
   "execution_count": 93,
   "metadata": {},
   "outputs": [],
   "source": [
    "%matplotlib inline\n",
    "import matplotlib.pyplot as plt\n",
    "import networkx as nx\n",
    "import numpy as np\n",
    "import random"
   ]
  },
  {
   "cell_type": "markdown",
   "metadata": {},
   "source": [
    "## Word2Vec"
   ]
  },
  {
   "cell_type": "code",
   "execution_count": null,
   "metadata": {},
   "outputs": [],
   "source": [
    "\n",
    "text = \"\"\"Lorem ipsum dolor sit amet, consectetur\n",
    "adipiscing elit. Nunc eu sem scelerisque, dictum eros\n",
    "aliquam, accumsan quam. Pellentesque tempus, lorem ut\n",
    "semper fermentum, ante turpis accumsan ex, sit amet\n",
    "ultricies tortor erat quis nulla. Nunc consectetur ligula\n",
    "sit amet purus porttitor, vel tempus tortor scelerisque.\n",
    "Vestibulum ante ipsum primis in faucibus orci luctus\n",
    "et ultrices posuere cubilia curae; Quisque suscipit\n",
    "ligula nec faucibus accumsan. Duis vulputate massa sit\n",
    "amet viverra hendrerit. Integer maximus quis sapien id\n",
    "convallis. Donec elementum placerat ex laoreet gravida.\n",
    "Praesent quis enim facilisis, bibendum est nec, pharetra\n",
    "ex. Etiam pharetra congue justo, eget imperdiet diam\n",
    "varius non. Mauris dolor lectus, interdum in laoreet\n",
    "quis, faucibus vitae velit. Donec lacinia dui eget\n",
    "maximus cursus. Class aptent taciti sociosqu ad litora\n",
    "torquent per conubia nostra, per inceptos himenaeos.\n",
    "Vivamus tincidunt velit eget nisi ornare convallis.\n",
    "Pellentesque habitant morbi tristique senectus et netus\n",
    "et malesuada fames ac turpis egestas. Donec tristique\n",
    "ultrices tortor at accumsan.\n",
    "\"\"\".split()\n"
   ]
  },
  {
   "cell_type": "code",
   "execution_count": null,
   "metadata": {},
   "outputs": [],
   "source": [
    "from gensim.models.word2vec import Word2Vec\n",
    "\n",
    "model = Word2Vec([text],\n",
    "                  sg=1, # Skip-gram\n",
    "                  vector_size=10,\n",
    "                  min_count=0,\n",
    "                  window=2,\n",
    "                  seed=0)\n",
    "\n",
    "print(f'Shape of W_embed: {model.wv.vectors.shape}')"
   ]
  },
  {
   "cell_type": "code",
   "execution_count": null,
   "metadata": {},
   "outputs": [],
   "source": [
    "model.train([text], total_examples=model.corpus_count,epochs=10)"
   ]
  },
  {
   "cell_type": "code",
   "execution_count": null,
   "metadata": {},
   "outputs": [],
   "source": [
    "print(f'Word embedding = {model.wv[0]}')"
   ]
  },
  {
   "cell_type": "markdown",
   "metadata": {},
   "source": [
    "## RandomWalk"
   ]
  },
  {
   "cell_type": "code",
   "execution_count": null,
   "metadata": {},
   "outputs": [],
   "source": [
    "random.seed(0)\n",
    "\n",
    "class RandomWalk:\n",
    "    def __init__(self, graph):\n",
    "        self.graph = graph\n",
    "\n",
    "    def random_walk(self, start, length):\n",
    "        walk = [str(start)]  # starting node\n",
    "        for i in range(length):\n",
    "            neighbors = [node for node in self.graph.neighbors(start)]\n",
    "            next_node = np.random.choice(neighbors, 1)[0]\n",
    "            walk.append(str(next_node))\n",
    "            start = next_node\n",
    "        return walk\n",
    "\n",
    "    def plot_graph(self):\n",
    "        plt.figure(dpi=300)\n",
    "        plt.axis('off')\n",
    "        pos = nx.spring_layout(self.graph, seed=0)\n",
    "        nx.draw_networkx(\n",
    "            self.graph,\n",
    "            pos=pos,\n",
    "            node_size=600,\n",
    "            cmap='coolwarm',\n",
    "            font_size=14,\n",
    "            font_color='white'\n",
    "        )\n",
    "        plt.show()\n"
   ]
  },
  {
   "cell_type": "markdown",
   "metadata": {},
   "source": [
    "### Usage Example"
   ]
  },
  {
   "cell_type": "code",
   "execution_count": null,
   "metadata": {},
   "outputs": [],
   "source": [
    "# Example usage\n",
    "G = nx.erdos_renyi_graph(10, 0.3, seed=1, directed=False)\n",
    "random_walker = RandomWalk(G)\n",
    "walk_result = random_walker.random_walk(start=0, length=10)\n",
    "print(walk_result)\n",
    "random_walker.plot_graph()"
   ]
  },
  {
   "cell_type": "markdown",
   "metadata": {},
   "source": [
    "## DeepWalk"
   ]
  },
  {
   "cell_type": "code",
   "execution_count": null,
   "metadata": {},
   "outputs": [],
   "source": [
    "random.seed(0)\n",
    "\n",
    "class DeepWalk(RandomWalk):\n",
    "    def __init__(self, graph):\n",
    "        super().__init__(graph)\n",
    "\n",
    "    def generate_random_walks(self, num_walks, walk_length):\n",
    "        walks = []\n",
    "        for node in self.graph.nodes:\n",
    "            for _ in range(num_walks):\n",
    "                walks.append(self.random_walk(node, walk_length))\n",
    "        return walks\n",
    "\n",
    "    def train_word2vec(self, walks, vector_size=100, window=10, epochs=30):\n",
    "        from gensim.models.word2vec import Word2Vec\n",
    "\n",
    "        model = Word2Vec(\n",
    "            walks,\n",
    "            hs=1,   # Hierarchical softmax\n",
    "            sg=1,   # Skip-gram\n",
    "            vector_size=vector_size,\n",
    "            window=window,\n",
    "            workers=1,\n",
    "            seed=1\n",
    "        )\n",
    "\n",
    "        # Build vocabulary\n",
    "        model.build_vocab(walks)\n",
    "\n",
    "        # Train model\n",
    "        model.train(walks, total_examples=model.corpus_count, epochs=epochs, report_delay=1)\n",
    "\n",
    "        return model\n",
    "\n",
    "    def visualize_tsne(self, model, labels):\n",
    "        from sklearn.manifold import TSNE\n",
    "\n",
    "        # Preprocess word vectors and label\n",
    "        nodes_wv = np.array([model.wv.get_vector(str(i)) for i in range(len(model.wv))])\n",
    "\n",
    "        # Train TSNE\n",
    "        tsne = TSNE(\n",
    "            n_components=2,\n",
    "            learning_rate='auto',\n",
    "            init='pca',\n",
    "            random_state=0\n",
    "        ).fit_transform(nodes_wv)\n",
    "\n",
    "        # Plot TSNE\n",
    "        plt.figure(figsize=(6, 6))\n",
    "        plt.scatter(tsne[:, 0], tsne[:, 1], s=100, c=labels, cmap=\"coolwarm\")\n",
    "        plt.show()\n",
    "\n"
   ]
  },
  {
   "cell_type": "markdown",
   "metadata": {},
   "source": [
    "### Visualization \n",
    "Using karate_club_graph graph"
   ]
  },
  {
   "cell_type": "code",
   "execution_count": null,
   "metadata": {},
   "outputs": [],
   "source": [
    "# Usage example\n",
    "G = nx.karate_club_graph()\n",
    "# Create a graph (for demonstration, you can use any other graph)\n",
    "\n",
    "\n",
    "# Process labels (Mr. Hi = 0, Officer = 1)\n",
    "labels = [1 if G.nodes[node]['club'] == 'Officer' else 0 for node in G.nodes]\n",
    "\n",
    "# Create DeepWalk instance\n",
    "deep_walker = DeepWalk(G)\n",
    "\n",
    "# Generate random walks\n",
    "walks = deep_walker.generate_random_walks(num_walks=100, walk_length=10)\n",
    "\n",
    "# Train Word2Vec model\n",
    "word2vec_model = deep_walker.train_word2vec(walks, vector_size=100, window=10, epochs=30)\n",
    "\n",
    "# Visualize embeddings using t-SNE\n",
    "deep_walker.visualize_tsne(word2vec_model, labels)\n"
   ]
  },
  {
   "cell_type": "markdown",
   "metadata": {},
   "source": [
    "#### Application"
   ]
  },
  {
   "cell_type": "code",
   "execution_count": null,
   "metadata": {},
   "outputs": [],
   "source": [
    "print('Nodes that are the most similar to node 0:')\n",
    "for similarity in word2vec_model.wv.most_similar(positive=['0']):\n",
    "  print(f' {similarity}')"
   ]
  },
  {
   "cell_type": "markdown",
   "metadata": {},
   "source": [
    "## Pre-built DeepWalk"
   ]
  },
  {
   "cell_type": "code",
   "execution_count": null,
   "metadata": {},
   "outputs": [],
   "source": [
    "%pip install karateclub"
   ]
  },
  {
   "cell_type": "code",
   "execution_count": null,
   "metadata": {},
   "outputs": [],
   "source": [
    "# Importing pre-built deepwalk libraries\n",
    "from karateclub.node_embedding.neighbourhood.deepwalk import DeepWalk # DeepWalk implementation from KarateClub\n",
    "\n",
    "# Load the karate club graph\n",
    "G = nx.karate_club_graph()\n",
    "\n",
    "# Create a DeepWalk instance with embedding dimensions 2\n",
    "dw = DeepWalk(dimensions=2)\n",
    "\n",
    "# Fit DeepWalk on the graph to generate node embeddings\n",
    "dw.fit(G)\n",
    "\n",
    "# Obtain the generated embeddings from DeepWalk\n",
    "embeddings = dw.get_embedding()\n"
   ]
  },
  {
   "cell_type": "markdown",
   "metadata": {},
   "source": [
    "### Visualization"
   ]
  },
  {
   "cell_type": "code",
   "execution_count": null,
   "metadata": {},
   "outputs": [],
   "source": [
    "fig, axs = plt.subplots(nrows=1, ncols=2)\n",
    "nx.draw_networkx(G,\n",
    "                 pos=nx.spring_layout(G),\n",
    "                 node_color=labels,\n",
    "                 node_size=100,\n",
    "                 cmap='coolwarm',\n",
    "                 font_size=8,\n",
    "                 font_color='white',\n",
    "                 ax=axs[0]\n",
    "                 )\n",
    "\n",
    "\n",
    "import matplotlib.cm as cm\n",
    "\n",
    "labels = np.array(labels)\n",
    "\n",
    "# Normalize labels to range between 0 and 1\n",
    "norm_labels = (labels - min(labels)) / (max(labels) - min(labels))\n",
    "\n",
    "# Get colors from the 'coolwarm' colormap based on the normalized labels\n",
    "mapped_colors = cm.coolwarm(norm_labels)\n",
    "\n",
    "for x in G.nodes():\n",
    "    v  = embeddings[x]\n",
    "   \n",
    "    axs[1].scatter(v[0],v[1], s=100,c=mapped_colors[x])\n",
    "    axs[1].annotate(str(x), (v[0],v[1]), fontsize=8)\n",
    "\n",
    "# Adjust spacing between subplots\n",
    "plt.subplots_adjust(wspace=0.5)\n",
    "# Add a title to the overall plot\n",
    "fig.suptitle('Nodes Embedings Using DeepWalk method', fontweight='bold', fontsize=16)\n",
    "\n",
    "# Add titles to subplots\n",
    "axs[0].set_title('A karate_club_graph Graph', fontweight='bold')\n",
    "axs[1].set_title('DeepWalk Nodes embedings', fontweight='bold')"
   ]
  },
  {
   "cell_type": "markdown",
   "metadata": {},
   "source": [
    "## Node2Vec"
   ]
  },
  {
   "cell_type": "code",
   "execution_count": null,
   "metadata": {},
   "outputs": [],
   "source": [
    "from sklearn.manifold import TSNE\n",
    "\n",
    "\n",
    "class Node2Vec:\n",
    "    def __init__(self, graph, dimensions=128, walk_length=30, num_walks=10, p=1.0, q=1.0):\n",
    "        self.graph = graph\n",
    "        self.dimensions = dimensions\n",
    "        self.walk_length = walk_length\n",
    "        self.num_walks = num_walks\n",
    "        self.p = p\n",
    "        self.q = q\n",
    "        self.embeddings = None\n",
    "\n",
    "    def _biased_random_walk(self, start_node):\n",
    "        walk = [start_node]\n",
    "\n",
    "        for _ in range(self.walk_length - 1):\n",
    "            neighbors = list(self.graph.neighbors(walk[-1]))\n",
    "            if len(neighbors) > 0:\n",
    "                weights = [1.0 / self.p if n == walk[-1] else\n",
    "                           1.0 / self.q if self.graph.has_edge(walk[-1], n) else\n",
    "                           1.0 for n in neighbors]\n",
    "                probabilities = np.array(weights) / np.sum(weights)\n",
    "                walk.append(np.random.choice(neighbors, p=probabilities))\n",
    "            else:\n",
    "                break\n",
    "\n",
    "        return [str(node) for node in walk]\n",
    "\n",
    "    def generate_walks(self):\n",
    "        walks = []\n",
    "\n",
    "        for _ in range(self.num_walks):\n",
    "            for node in self.graph.nodes():\n",
    "                walks.append(self._biased_random_walk(node))\n",
    "\n",
    "        return walks\n",
    "\n",
    "    def train(self, walks):\n",
    "        word2vec = Word2Vec(walks, vector_size=self.dimensions, window=5, min_count=0, sg=1, workers=4)\n",
    "        self.embeddings = {str(node): word2vec.wv[str(node)] for node in self.graph.nodes()}\n",
    "\n",
    "    def visualize_embeddings(self, G):\n",
    "        if self.embeddings is None:\n",
    "            print(\"Embeddings have not been trained yet.\")\n",
    "            return\n",
    "\n",
    "        # Get binary cluster labels\n",
    "        labels = [1 if G.nodes[node]['club'] == 'Officer' else 0 for node in G.nodes()]\n",
    "\n",
    "        node_ids, embeddings = zip(*self.embeddings.items())\n",
    "        embeddings = np.array(embeddings)\n",
    "\n",
    "        # Perform t-SNE\n",
    "        tsne = TSNE(n_components=2, random_state=42)\n",
    "        embeddings_2d = tsne.fit_transform(embeddings)\n",
    "\n",
    "        # Visualize\n",
    "        plt.figure(figsize=(10, 8))\n",
    "        plt.scatter(embeddings_2d[:, 0], embeddings_2d[:, 1], c=labels, cmap=\"coolwarm\", alpha=0.7)\n",
    "        for i, node_id in enumerate(node_ids):\n",
    "            plt.annotate(node_id, (embeddings_2d[i, 0], embeddings_2d[i, 1]), alpha=0.7)\n",
    "        plt.title('Node Embeddings Visualization using t-SNE')\n",
    "        plt.colorbar()\n",
    "        plt.show()\n",
    "\n"
   ]
  },
  {
   "cell_type": "markdown",
   "metadata": {},
   "source": [
    "### Visualization"
   ]
  },
  {
   "cell_type": "code",
   "execution_count": null,
   "metadata": {},
   "outputs": [],
   "source": [
    "# Usage example\n",
    "G = nx.karate_club_graph()\n",
    "node2vec = Node2Vec(G, dimensions=128, walk_length=30, num_walks=10, p=1.0, q=1.0)\n",
    "walks = node2vec.generate_walks()\n",
    "node2vec.train(walks)\n",
    "node2vec.visualize_embeddings(G)\n"
   ]
  },
  {
   "cell_type": "markdown",
   "metadata": {},
   "source": [
    "## Pre-built Node2Vec"
   ]
  },
  {
   "cell_type": "code",
   "execution_count": null,
   "metadata": {},
   "outputs": [],
   "source": [
    "%pip install node2vec"
   ]
  },
  {
   "cell_type": "code",
   "execution_count": null,
   "metadata": {},
   "outputs": [],
   "source": [
    "import networkx as nx\n",
    "from node2vec import Node2Vec\n",
    "import matplotlib.pyplot as plt\n",
    "\n",
    "node2vec = Node2Vec(G, dimensions=2)\n",
    "model = node2vec.fit(window=10)"
   ]
  },
  {
   "cell_type": "markdown",
   "metadata": {},
   "source": [
    "### Visualization"
   ]
  },
  {
   "cell_type": "code",
   "execution_count": null,
   "metadata": {},
   "outputs": [],
   "source": [
    "fig, axs = plt.subplots(nrows=1, ncols=2)\n",
    "nx.draw_networkx(G,\n",
    "                 pos=nx.spring_layout(G, seed=0),\n",
    "                 node_color=labels,\n",
    "                 node_size=100,\n",
    "                 cmap='coolwarm',\n",
    "                 font_size=8,\n",
    "                 font_color='white',\n",
    "                 ax=axs[0]\n",
    "                 )\n",
    "\n",
    "\n",
    "import matplotlib.cm as cm\n",
    "\n",
    "labels = np.array(labels)\n",
    "\n",
    "# Normalize labels to range between 0 and 1\n",
    "norm_labels = (labels - min(labels)) / (max(labels) - min(labels))\n",
    "\n",
    "# Get colors from the 'coolwarm' colormap based on the normalized labels\n",
    "mapped_colors = cm.coolwarm(norm_labels)\n",
    "\n",
    "for x in G.nodes():\n",
    "    v = model.wv.get_vector(str(x))\n",
    "    axs[1].scatter(v[0],v[1], s=100,c=mapped_colors[x])\n",
    "    axs[1].annotate(str(x), (v[0],v[1]), fontsize=8)\n",
    "\n",
    "# Adjust spacing between subplots\n",
    "plt.subplots_adjust(wspace=0.5)\n",
    "# Add a title to the overall plot\n",
    "fig.suptitle('Nodes Embedings Using Node2Vec method', fontweight='bold', fontsize=16)\n",
    "\n",
    "# Add titles to subplots\n",
    "axs[0].set_title('A karate_club_graph Graph', fontweight='bold')\n",
    "axs[1].set_title('Node2Vec Nodes embedings', fontweight='bold')"
   ]
  },
  {
   "cell_type": "markdown",
   "metadata": {},
   "source": [
    "# Challenges:\n",
    "\n",
    "## Challenge 1: \n",
    "Using the  matrix of a network graph saved in the file `data/inf-USAir97.mtx`:\n",
    "- Create the graph using the follwing code:\n",
    "```\n",
    "from scipy.io import mmread\n",
    "adj_mat = mmread(\"data/inf-USAir97.mtx\")\n",
    "graph = nx.from_scipy_sparse_matrix(adj_mat)\n",
    "```\n",
    "\n",
    "- Perform Nodes Embedings with the two skip-gram Based embedings  Methods: DeepWalk  and Node2Vec\n"
   ]
  },
  {
   "cell_type": "code",
   "execution_count": 119,
   "metadata": {},
   "outputs": [],
   "source": [
    "#your solution"
   ]
  }
 ],
 "metadata": {
  "kernelspec": {
   "display_name": "Python 3",
   "language": "python",
   "name": "python3"
  },
  "language_info": {
   "codemirror_mode": {
    "name": "ipython",
    "version": 3
   },
   "file_extension": ".py",
   "mimetype": "text/x-python",
   "name": "python",
   "nbconvert_exporter": "python",
   "pygments_lexer": "ipython3",
   "version": "3.9.12"
  },
  "latex_envs": {
   "LaTeX_envs_menu_present": true,
   "autoclose": false,
   "autocomplete": true,
   "bibliofile": "biblio.bib",
   "cite_by": "apalike",
   "current_citInitial": 1,
   "eqLabelWithNumbers": true,
   "eqNumInitial": 1,
   "hotkeys": {
    "equation": "Ctrl-E",
    "itemize": "Ctrl-I"
   },
   "labels_anchors": false,
   "latex_user_defs": false,
   "report_style_numbering": false,
   "user_envs_cfg": false
  },
  "varInspector": {
   "cols": {
    "lenName": 16,
    "lenType": 16,
    "lenVar": 40
   },
   "kernels_config": {
    "python": {
     "delete_cmd_postfix": "",
     "delete_cmd_prefix": "del ",
     "library": "var_list.py",
     "varRefreshCmd": "print(var_dic_list())"
    },
    "r": {
     "delete_cmd_postfix": ") ",
     "delete_cmd_prefix": "rm(",
     "library": "var_list.r",
     "varRefreshCmd": "cat(var_dic_list()) "
    }
   },
   "types_to_exclude": [
    "module",
    "function",
    "builtin_function_or_method",
    "instance",
    "_Feature"
   ],
   "window_display": false
  },
  "widgets": {
   "state": {},
   "version": "1.1.2"
  }
 },
 "nbformat": 4,
 "nbformat_minor": 4
}
